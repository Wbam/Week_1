{
 "cells": [
  {
   "cell_type": "markdown",
   "metadata": {},
   "source": [
    "<span style=\"font-size:32px;\"><strong>Date Alignment</strong></span>\n"
   ]
  },
  {
   "cell_type": "code",
   "execution_count": null,
   "metadata": {},
   "outputs": [],
   "source": [
    "import nltk\n",
    "nltk.download('vader_lexicon')\n",
    "import pandas as pd\n",
    "from textblob import TextBlob\n",
    "from nltk.sentiment.vader import SentimentIntensityAnalyzer\n",
    "\n",
    "\n",
    "news_df = pd.read_csv(\"C:/Users/User/Desktop/10/raw_analyst_ratings.csv\")\n",
    "stock_df = pd.concat([\n",
    "    pd.read_csv('C:/Users/User/Desktop/10/data/AAPL_historical_data.csv'),\n",
    "    pd.read_csv('C:/Users/User/Desktop/10/data/AMZN_historical_data.csv'),\n",
    "    pd.read_csv('C:/Users/User/Desktop/10/data/GOOG_historical_data.csv'),\n",
    "    pd.read_csv('C:/Users/User/Desktop/10/data/META_historical_data.csv'),\n",
    "    pd.read_csv('C:/Users/User/Desktop/10/data/MSFT_historical_data.csv'),\n",
    "    pd.read_csv('C:/Users/User/Desktop/10/data/NVDA_historical_data.csv'),\n",
    "    pd.read_csv('C:/Users/User/Desktop/10/data/TSLA_historical_data.csv')\n",
    "], ignore_index=True)\n",
    "\n",
    "print(\"News DataFrame - Data types:\")\n",
    "print(news_df.dtypes)\n",
    "print(\"\\nNews DataFrame - First few rows:\")\n",
    "print(news_df.head())\n",
    "\n",
    "print(\"\\nStock DataFrame - Data types:\")\n",
    "print(stock_df.dtypes)\n",
    "print(\"\\nStock DataFrame - First few rows:\")\n",
    "print(stock_df.head())\n",
    "\n",
    "news_df['date'] = pd.to_datetime(news_df['date'], errors='coerce')\n",
    "print(f\"\\nNews date column type: {news_df['date'].dtype}\")\n",
    "print(f\"News date column first few values: {news_df['date'].head()}\")\n",
    "\n",
    "stock_df['Date'] = pd.to_datetime(stock_df['Date'], errors='coerce')\n",
    "print(f\"\\nStock date column type: {stock_df['Date'].dtype}\")\n",
    "print(f\"Stock date column first few values: {stock_df['Date'].head()}\")\n",
    "\n",
    "print(f\"\\nNon-datetime values in news_df['date']: {news_df[news_df['date'].isna()]}\")\n",
    "\n",
    "news_df\n",
    " "
   ]
  },
  {
   "cell_type": "markdown",
   "metadata": {},
   "source": [
    "<span style=\"font-size:32px;\"><strong>Sentiment Analysis</strong></span>"
   ]
  },
  {
   "cell_type": "code",
   "execution_count": null,
   "metadata": {},
   "outputs": [],
   "source": [
    "sid = SentimentIntensityAnalyzer()\n",
    "\n",
    "def get_sentiment_score(headline):\n",
    "   \n",
    "    sentiment = sid.polarity_scores(headline)\n",
    "    return sentiment['compound']  \n",
    "\n",
    "news_df['Sentiment_Score'] = news_df['headline'].apply(get_sentiment_score)\n",
    "\n",
    "news_df['Sentiment_Label'] = news_df['Sentiment_Score'].apply(\n",
    "    lambda x: 'positive' if x > 0.05 else ('negative' if x < -0.05 else 'neutral')\n",
    ")\n",
    "\n",
    "print(\"News DataFrame with Sentiment Scores and Labels:\")\n",
    "print(news_df[['headline', 'Sentiment_Score', 'Sentiment_Label']].head())\n"
   ]
  },
  {
   "cell_type": "markdown",
   "metadata": {},
   "source": [
    "<span style=\"font-size:32px;\"><strong>Daily Stock Returns</strong></span>"
   ]
  },
  {
   "cell_type": "code",
   "execution_count": null,
   "metadata": {},
   "outputs": [],
   "source": [
    "aapl_df = pd.read_csv('C:/Users/User/Desktop/10/data/AAPL_historical_data.csv')\n",
    "aapl_df['Stock'] = 'AAPL' \n",
    "\n",
    "amzn_df = pd.read_csv('C:/Users/User/Desktop/10/data/AMZN_historical_data.csv')\n",
    "amzn_df['Stock'] = 'AMZN' \n",
    "goog_df = pd.read_csv('C:/Users/User/Desktop/10/data/GOOG_historical_data.csv')\n",
    "goog_df['Stock'] = 'GOOG' \n",
    "meta_df = pd.read_csv('C:/Users/User/Desktop/10/data/META_historical_data.csv')\n",
    "meta_df['Stock'] = 'META' \n",
    "\n",
    "msft_df = pd.read_csv('C:/Users/User/Desktop/10/data/MSFT_historical_data.csv')\n",
    "msft_df['Stock'] = 'MSFT'  \n",
    "\n",
    "nvda_df = pd.read_csv('C:/Users/User/Desktop/10/data/NVDA_historical_data.csv')\n",
    "nvda_df['Stock'] = 'NVDA'  \n",
    "\n",
    "tsla_df = pd.read_csv('C:/Users/User/Desktop/10/data/TSLA_historical_data.csv')\n",
    "tsla_df['Stock'] = 'TSLA'  \n",
    "\n",
    "stock_df = pd.concat([aapl_df, amzn_df, goog_df, meta_df, msft_df, nvda_df, tsla_df], ignore_index=True)\n",
    "\n",
    "stock_df['Date'] = pd.to_datetime(stock_df['Date'], errors='coerce')\n",
    "\n",
    "stock_df = stock_df.sort_values(by=['Stock', 'Date'])\n",
    "\n",
    "stock_df['Daily_Return'] = stock_df.groupby('Stock')['Close'].pct_change() * 100\n",
    "\n",
    "stock_df['Daily_Return'] = stock_df['Daily_Return'].fillna(0)\n",
    "\n",
    "print(\"Stock DataFrame with Daily Returns:\")\n",
    "print(stock_df[['Date', 'Stock', 'Close', 'Daily_Return']].head(10))\n"
   ]
  },
  {
   "cell_type": "markdown",
   "metadata": {},
   "source": [
    "<span style=\"font-size:32px;\"><strong>Correlation Analysis</strong></span>"
   ]
  },
  {
   "cell_type": "code",
   "execution_count": null,
   "metadata": {},
   "outputs": [],
   "source": [
    "\n",
    "news_df['Sentiment_Score'] = news_df['headline'].apply(get_sentiment_score)\n",
    "\n",
    "news_df['date'] = pd.to_datetime(news_df['date'], errors='coerce')\n",
    "\n",
    "average_daily_sentiment = news_df.groupby('date')['Sentiment_Score'].mean().reset_index()\n",
    "\n",
    "average_daily_sentiment.columns = ['Date', 'Average_Sentiment_Score']\n",
    "\n",
    "print(\"Average Daily Sentiment Scores:\")\n",
    "print(average_daily_sentiment.head())\n"
   ]
  },
  {
   "cell_type": "code",
   "execution_count": null,
   "metadata": {},
   "outputs": [],
   "source": [
    "news_df['Sentiment_Score'] = news_df['headline'].apply(get_sentiment_score)\n",
    "\n",
    "news_df['date'] = pd.to_datetime(news_df['date'], errors='coerce')\n",
    "stock_df['Date'] = pd.to_datetime(stock_df['Date'], errors='coerce')\n",
    "\n",
    "average_daily_sentiment = news_df.groupby('date')['Sentiment_Score'].mean().reset_index()\n",
    "average_daily_sentiment.columns = ['Date', 'Average_Sentiment_Score']\n",
    "\n",
    "stock_df['Daily_Return'] = stock_df.groupby('Stock')['Close'].pct_change() * 100\n",
    "stock_df['Daily_Return'] = stock_df['Daily_Return'].fillna(0)\n",
    "\n",
    "merged_df = pd.merge(average_daily_sentiment, stock_df, on='Date', how='inner')\n",
    "\n",
    "correlation = merged_df['Average_Sentiment_Score'].corr(merged_df['Daily_Return'])\n",
    "\n",
    "print(\"Pearson Correlation Coefficient between Average Daily Sentiment Score and Stock Daily Returns:\")\n",
    "print(correlation)"
   ]
  }
 ],
 "metadata": {
  "kernelspec": {
   "display_name": "myenv",
   "language": "python",
   "name": "python3"
  },
  "language_info": {
   "codemirror_mode": {
    "name": "ipython",
    "version": 3
   },
   "file_extension": ".py",
   "mimetype": "text/x-python",
   "name": "python",
   "nbconvert_exporter": "python",
   "pygments_lexer": "ipython3",
   "version": "3.10.14"
  }
 },
 "nbformat": 4,
 "nbformat_minor": 2
}
